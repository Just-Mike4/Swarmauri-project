{
 "cells": [
  {
   "cell_type": "code",
   "execution_count": 1,
   "id": "8f3ff758",
   "metadata": {},
   "outputs": [],
   "source": [
    "from dotenv import load_dotenv\n",
    "import os\n",
    "import gradio as gr\n",
    "from swarmauri.standard.llms.concrete.GroqModel import GroqModel\n",
    "from swarmauri.standard.messages.concrete.SystemMessage import SystemMessage\n",
    "from swarmauri.standard.agents.concrete.SimpleConversationAgent import SimpleConversationAgent\n",
    "from swarmauri.standard.conversations.concrete.MaxSystemContextConversation import MaxSystemContextConversation"
   ]
  },
  {
   "cell_type": "code",
   "execution_count": 2,
   "id": "c39436cb",
   "metadata": {},
   "outputs": [],
   "source": [
    "load_dotenv()\n",
    "API_KEY=os.getenv(\"API_KEY\")\n",
    "llm=GroqModel(api_key=API_KEY)\n",
    "allowed_models=llm.allowed_models\n",
    "conversation= MaxSystemContextConversation()\n"
   ]
  },
  {
   "cell_type": "code",
   "execution_count": 3,
   "id": "f3898697",
   "metadata": {},
   "outputs": [],
   "source": [
    "def load_model(selected_model):\n",
    "    return GroqModel(api_key=API_KEY,name=selected_model)"
   ]
  },
  {
   "cell_type": "code",
   "execution_count": 4,
   "id": "dfd9e9e9",
   "metadata": {},
   "outputs": [],
   "source": [
    "def converse(input_text,history,system_context,model_name):\n",
    "    print(f\"system_context: {system_context}\")\n",
    "    print(f\"Selected model: {model_name}\")\n",
    "\n",
    "    llm=load_model(model_name)\n",
    "    agent=SimpleConversationAgent(llm=llm, conversation=conversation)\n",
    "\n",
    "    agent.conversation.system_context= SystemMessage(content=system_context)\n",
    "\n",
    "    input_text = str(input_text)\n",
    "\n",
    "    print(conversation.history)\n",
    "\n",
    "    result= agent.exec(input_text)\n",
    "    print(result,type(result))\n",
    "\n",
    "    return str(result)\n",
    "\n"
   ]
  },
  {
   "cell_type": "code",
   "execution_count": 5,
   "id": "137a888f",
   "metadata": {},
   "outputs": [
    {
     "name": "stdout",
     "output_type": "stream",
     "text": [
      "Running on local URL:  http://127.0.0.1:7860\n",
      "\n",
      "To create a public link, set `share=True` in `launch()`.\n"
     ]
    },
    {
     "data": {
      "text/html": [
       "<div><iframe src=\"http://127.0.0.1:7860/\" width=\"100%\" height=\"500\" allow=\"autoplay; camera; microphone; clipboard-read; clipboard-write;\" frameborder=\"0\" allowfullscreen></iframe></div>"
      ],
      "text/plain": [
       "<IPython.core.display.HTML object>"
      ]
     },
     "metadata": {},
     "output_type": "display_data"
    },
    {
     "name": "stdout",
     "output_type": "stream",
     "text": [
      "IMPORTANT: You are using gradio version 3.47.1, however version 4.29.0 is available, please upgrade.\n",
      "--------\n"
     ]
    }
   ],
   "source": [
    "demo= gr.ChatInterface(\n",
    "    fn= converse,\n",
    "    additional_inputs=[\n",
    "        gr.Textbox(label=\"System Context\"),\n",
    "        gr.Dropdown(label=\"Model Name\",choices=allowed_models,value=allowed_models[0])\n",
    "    ],\n",
    "    title='My bot with system context',\n",
    "    description='Interact with the system using a selected model and system context of your choice.'\n",
    ")\n",
    "\n",
    "if __name__== \"__main__\":\n",
    "    demo.launch()"
   ]
  }
 ],
 "metadata": {
  "kernelspec": {
   "display_name": "Python 3",
   "language": "python",
   "name": "python3"
  },
  "language_info": {
   "codemirror_mode": {
    "name": "ipython",
    "version": 3
   },
   "file_extension": ".py",
   "mimetype": "text/x-python",
   "name": "python",
   "nbconvert_exporter": "python",
   "pygments_lexer": "ipython3",
   "version": "3.11.2"
  }
 },
 "nbformat": 4,
 "nbformat_minor": 5
}
